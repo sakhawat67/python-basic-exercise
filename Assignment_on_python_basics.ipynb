{
  "nbformat": 4,
  "nbformat_minor": 0,
  "metadata": {
    "colab": {
      "provenance": [],
      "authorship_tag": "ABX9TyM9va9FbnT/LsljaPGnni2f",
      "include_colab_link": true
    },
    "kernelspec": {
      "name": "python3",
      "display_name": "Python 3"
    },
    "language_info": {
      "name": "python"
    }
  },
  "cells": [
    {
      "cell_type": "markdown",
      "metadata": {
        "id": "view-in-github",
        "colab_type": "text"
      },
      "source": [
        "<a href=\"https://colab.research.google.com/github/sakhawat67/python-basic-exercise/blob/main/Assignment_on_python_basics.ipynb\" target=\"_parent\"><img src=\"https://colab.research.google.com/assets/colab-badge.svg\" alt=\"Open In Colab\"/></a>"
      ]
    },
    {
      "cell_type": "markdown",
      "source": [
        "**Assignment on Python basics**\n",
        "\n",
        "Submitted by: \n",
        "\n",
        "\n",
        "\n",
        "\n",
        "\n",
        "\n",
        "Md Sakhawat Hossain\n",
        "\n",
        "\n",
        "\n",
        "\n",
        "Roll: 20229041\n",
        "\n",
        "\n",
        "\n",
        "\n",
        "Section-A"
      ],
      "metadata": {
        "id": "7sECmENQva50"
      }
    },
    {
      "cell_type": "code",
      "source": [
        "import pandas as pd\n",
        "import numpy as np"
      ],
      "metadata": {
        "id": "gdEtyt4-xAWF"
      },
      "execution_count": 20,
      "outputs": []
    },
    {
      "cell_type": "markdown",
      "source": [
        "##### 1. Write a Python program to count the number of characters (character frequency) in a string.\n",
        "Sample String : google.com\n",
        "Expected Result : {'o': 3, 'g': 2, '.': 1, 'e': 1, 'l': 1, 'm': 1, 'c': 1}"
      ],
      "metadata": {
        "id": "c4RjAexhzFp4"
      }
    },
    {
      "cell_type": "code",
      "source": [
        "def char_frequency(str1):\n",
        "    dict={}\n",
        "    for i in str1:        \n",
        "        if i in dict:\n",
        "            dict[i]+=1\n",
        "        else:\n",
        "            dict[i]=1\n",
        "    return dict\n",
        "print(char_frequency('google.com'))"
      ],
      "metadata": {
        "colab": {
          "base_uri": "https://localhost:8080/"
        },
        "id": "TUVBr000xFMm",
        "outputId": "13f598b1-3c4d-47ad-8813-8f3d7069ea60"
      },
      "execution_count": 9,
      "outputs": [
        {
          "output_type": "stream",
          "name": "stdout",
          "text": [
            "{'g': 2, 'o': 3, 'l': 1, 'e': 1, '.': 1, 'c': 1, 'm': 1}\n"
          ]
        }
      ]
    },
    {
      "cell_type": "markdown",
      "source": [
        "##### 2. Write a Python program to check if a given key already exists in a dictionary"
      ],
      "metadata": {
        "id": "EImmGT6XzgAZ"
      }
    },
    {
      "cell_type": "code",
      "source": [
        "dict={'a':10,'b':20,'c':30,'d':40,'e':50}\n",
        "def key_present(x):\n",
        "    if x in dict:\n",
        "        print('Key is present in the dictionary')\n",
        "    else:\n",
        "        print('Key is not presnet in the dictionary')\n",
        "key_present('a')\n",
        "key_present('g')"
      ],
      "metadata": {
        "colab": {
          "base_uri": "https://localhost:8080/"
        },
        "id": "FT_8DuEazswR",
        "outputId": "061f1e14-c19c-459d-f25e-b3422e4f1bf3"
      },
      "execution_count": 10,
      "outputs": [
        {
          "output_type": "stream",
          "name": "stdout",
          "text": [
            "Key is present in the dictionary\n",
            "Key is not presnet in the dictionary\n"
          ]
        }
      ]
    },
    {
      "cell_type": "markdown",
      "source": [
        "##### 3. Write a Python program that accepts a sequence of comma-separated numbers from the\n",
        "user and generates a list and a tuple of those numbers.\n",
        "Sample data : 1, 5, 7, 23\n",
        "Expected Output :\n",
        "\n",
        "List : ['1', ' 5', ' 7', ' 23']\n",
        "\n",
        "Tuple : ('1', ' 5', ' 7', ' 23')"
      ],
      "metadata": {
        "id": "8Rz0Du6jz3AH"
      }
    },
    {
      "cell_type": "code",
      "source": [
        "numbers=input('inpur comma separated numbers: ')\n",
        "list= numbers.split(',')\n",
        "tuple= tuple(list)\n",
        "# print the list\n",
        "print('List:' , list)\n",
        "print('Tuple:' , tuple)"
      ],
      "metadata": {
        "colab": {
          "base_uri": "https://localhost:8080/"
        },
        "id": "E6a8rCCT0LPV",
        "outputId": "e3814729-9088-4e19-8017-e2bb1ef11f0b"
      },
      "execution_count": 12,
      "outputs": [
        {
          "output_type": "stream",
          "name": "stdout",
          "text": [
            "inpur comma separated numbers: 1,5,7,23\n",
            "List: ['1', '5', '7', '23']\n",
            "Tuple: ('1', '5', '7', '23')\n"
          ]
        }
      ]
    },
    {
      "cell_type": "markdown",
      "source": [
        "##### 4. Write a Python program to calculate the number of days between two dates.\n",
        "Sample dates : (2014, 7, 2), (2014, 7, 11)\n",
        "\n",
        "Expected output : 9 days"
      ],
      "metadata": {
        "id": "i3kJdGhk0ioh"
      }
    },
    {
      "cell_type": "code",
      "source": [
        "from datetime import date\n",
        "date1=date(2014,7,2)\n",
        "date2=date(2014,7,11)\n",
        "delta=date2-date1\n",
        "num_days=delta.days\n",
        "print('Number of days between', date1, 'and', date2, 'is:', num_days)"
      ],
      "metadata": {
        "colab": {
          "base_uri": "https://localhost:8080/"
        },
        "id": "qFVFKzCG0vMi",
        "outputId": "b24e810a-b1d1-46af-ccf5-e90365819c91"
      },
      "execution_count": 13,
      "outputs": [
        {
          "output_type": "stream",
          "name": "stdout",
          "text": [
            "Number of days between 2014-07-02 and 2014-07-11 is: 9\n"
          ]
        }
      ]
    },
    {
      "cell_type": "markdown",
      "source": [
        "##### 5. Write a Python program to solve (x + y) * (x + y).\n",
        "Test Data : x = 4, y = 3\n",
        "\n",
        "Expected Output : (4 + 3) ^ 2) = 49"
      ],
      "metadata": {
        "id": "fiRu3Vvw0238"
      }
    },
    {
      "cell_type": "code",
      "source": [
        "x , y = 4, 3\n",
        "result=(x+y)**2\n",
        "print(\"({}+{}) ^2 = {}\".format(x,y,result))"
      ],
      "metadata": {
        "colab": {
          "base_uri": "https://localhost:8080/"
        },
        "id": "kBvM8PfF0_Lz",
        "outputId": "bff81698-77c0-4f42-9d2c-c0a2958e0533"
      },
      "execution_count": 14,
      "outputs": [
        {
          "output_type": "stream",
          "name": "stdout",
          "text": [
            "(4+3) ^2 = 49\n"
          ]
        }
      ]
    },
    {
      "cell_type": "markdown",
      "source": [
        "##### 6. Write a Python program to compute the future value of a specified principal amount,\n",
        "rate of interest, and number of years.\n",
        "Test Data : amt = 10000, int = 3.5, years = 7\n",
        "\n",
        "Expected Output : 12722.79"
      ],
      "metadata": {
        "id": "Bj5dn36V1Fuo"
      }
    },
    {
      "cell_type": "code",
      "source": [
        "amt=10000\n",
        "int=3.5\n",
        "years=7\n",
        "future_value=amt*((1+(0.01*int))**years)\n",
        "print(round(future_value,2))"
      ],
      "metadata": {
        "colab": {
          "base_uri": "https://localhost:8080/"
        },
        "id": "t6sr5req1M_Y",
        "outputId": "40757b51-d27f-489a-8e8f-77af665aab0b"
      },
      "execution_count": 15,
      "outputs": [
        {
          "output_type": "stream",
          "name": "stdout",
          "text": [
            "12722.79\n"
          ]
        }
      ]
    },
    {
      "cell_type": "markdown",
      "source": [
        "##### 7. Write a Python program that removes duplicate elements from a given array of numbers so\n",
        "that each element appears only once and returns the new length of the array.\n",
        "Sample Input: [0,0,1,1,2,2,3,3,4,4,4]\n",
        "\n",
        "Sample Output:\n",
        "The list of unique numbers: [0,1,2,3,4]\n",
        "\n",
        "length of the unique list : 5"
      ],
      "metadata": {
        "id": "N3BdNpUn1WZE"
      }
    },
    {
      "cell_type": "code",
      "source": [
        "numbers=[0,0,1,1,2,2,3,3,4,4,4]\n",
        "list=set(numbers)\n",
        "length=len(list)\n",
        "print('The list of unique numbers:',list)\n",
        "print('Length of the unique list: ', length)"
      ],
      "metadata": {
        "colab": {
          "base_uri": "https://localhost:8080/"
        },
        "id": "FZQlPZWm1pyW",
        "outputId": "50347e5a-8f93-49d8-84f3-d1bd3d05060a"
      },
      "execution_count": 18,
      "outputs": [
        {
          "output_type": "stream",
          "name": "stdout",
          "text": [
            "The list of unique numbers: {0, 1, 2, 3, 4}\n",
            "Length of the unique list:  5\n"
          ]
        }
      ]
    },
    {
      "cell_type": "markdown",
      "source": [
        "##### 8. Write a Python program to sort (ascending and descending) a dictionary by key value."
      ],
      "metadata": {
        "id": "hPIzrjzR2BqI"
      }
    },
    {
      "cell_type": "code",
      "source": [
        "import operator\n",
        "d = {'tulip': 2, 'rose': 4, 'sunflower': 3, 'lotus': 1}\n",
        "print('Original dictionary : ',d)\n",
        "sorted_d = sorted(d.items(), key=operator.itemgetter(1))\n",
        "print('Dictionary in ascending order by value : ',sorted_d)\n",
        "sorted_d =sorted(d.items(), key=operator.itemgetter(1),reverse=True)\n",
        "print('Dictionary in descending order by value : ',sorted_d)"
      ],
      "metadata": {
        "colab": {
          "base_uri": "https://localhost:8080/"
        },
        "id": "OBSwZklv2F4S",
        "outputId": "998ef3f9-50be-44d3-982f-b0cc158a9bcc"
      },
      "execution_count": 24,
      "outputs": [
        {
          "output_type": "stream",
          "name": "stdout",
          "text": [
            "Original dictionary :  {'tulip': 2, 'rose': 4, 'sunflower': 3, 'lotus': 1}\n",
            "Dictionary in ascending order by value :  [('lotus', 1), ('tulip', 2), ('sunflower', 3), ('rose', 4)]\n",
            "Dictionary in descending order by value :  [('rose', 4), ('sunflower', 3), ('tulip', 2), ('lotus', 1)]\n"
          ]
        }
      ]
    },
    {
      "cell_type": "markdown",
      "source": [
        "##### 9. Write a Python program to add key to a dictionary. Go to the editor\n",
        "Sample Dictionary : {0: 10, 1: 20}\n",
        "\n",
        "Expected Result : {0: 10, 1: 20, 2: 30}"
      ],
      "metadata": {
        "id": "2Dni4ItD3S_t"
      }
    },
    {
      "cell_type": "code",
      "source": [
        "dict={0: 10, 1: 20}\n",
        "dict[2]=30\n",
        "print(dict)"
      ],
      "metadata": {
        "colab": {
          "base_uri": "https://localhost:8080/"
        },
        "id": "2tRzC_Ty3bMj",
        "outputId": "c3e55e2d-d5c1-4bb8-9a8e-c1598266130d"
      },
      "execution_count": 25,
      "outputs": [
        {
          "output_type": "stream",
          "name": "stdout",
          "text": [
            "{0: 10, 1: 20, 2: 30}\n"
          ]
        }
      ]
    },
    {
      "cell_type": "markdown",
      "source": [
        "##### 10. Write a Pandas program to create and display a DataFrame from a specified dictionary data\n",
        "which has the index labels."
      ],
      "metadata": {
        "id": "HasjOfO13hK2"
      }
    },
    {
      "cell_type": "code",
      "source": [
        "exam_data = {'name': ['Arif', 'Asir', 'Arik', 'Anis', 'Anil', 'Ashish', 'Anahi', 'Alia', 'Alvin', 'Asim'],\n",
        "'score': [12.5, 9, 16.5, np.nan, 9, 20, 14.5, np.nan, 8, 19],\n",
        "'attempts': [1, 3, 2, 3, 2, 3, 1, 1, 2, 1],\n",
        "'qualify': ['yes', 'no', 'yes', 'no', 'no', 'yes', 'yes', 'no', 'no', 'yes']}\n",
        "labels = ['a', 'b', 'c', 'd', 'e', 'f', 'g', 'h', 'i', 'j']\n",
        "df=pd.DataFrame(exam_data,index=labels)\n",
        "df"
      ],
      "metadata": {
        "colab": {
          "base_uri": "https://localhost:8080/",
          "height": 363
        },
        "id": "OLM850rQ3wFo",
        "outputId": "5d02e48c-159d-4a63-c6fb-39af7d4941f1"
      },
      "execution_count": 26,
      "outputs": [
        {
          "output_type": "execute_result",
          "data": {
            "text/plain": [
              "     name  score  attempts qualify\n",
              "a    Arif   12.5         1     yes\n",
              "b    Asir    9.0         3      no\n",
              "c    Arik   16.5         2     yes\n",
              "d    Anis    NaN         3      no\n",
              "e    Anil    9.0         2      no\n",
              "f  Ashish   20.0         3     yes\n",
              "g   Anahi   14.5         1     yes\n",
              "h    Alia    NaN         1      no\n",
              "i   Alvin    8.0         2      no\n",
              "j    Asim   19.0         1     yes"
            ],
            "text/html": [
              "\n",
              "  <div id=\"df-4ac3e288-aa78-4a47-823a-880884d1aa80\">\n",
              "    <div class=\"colab-df-container\">\n",
              "      <div>\n",
              "<style scoped>\n",
              "    .dataframe tbody tr th:only-of-type {\n",
              "        vertical-align: middle;\n",
              "    }\n",
              "\n",
              "    .dataframe tbody tr th {\n",
              "        vertical-align: top;\n",
              "    }\n",
              "\n",
              "    .dataframe thead th {\n",
              "        text-align: right;\n",
              "    }\n",
              "</style>\n",
              "<table border=\"1\" class=\"dataframe\">\n",
              "  <thead>\n",
              "    <tr style=\"text-align: right;\">\n",
              "      <th></th>\n",
              "      <th>name</th>\n",
              "      <th>score</th>\n",
              "      <th>attempts</th>\n",
              "      <th>qualify</th>\n",
              "    </tr>\n",
              "  </thead>\n",
              "  <tbody>\n",
              "    <tr>\n",
              "      <th>a</th>\n",
              "      <td>Arif</td>\n",
              "      <td>12.5</td>\n",
              "      <td>1</td>\n",
              "      <td>yes</td>\n",
              "    </tr>\n",
              "    <tr>\n",
              "      <th>b</th>\n",
              "      <td>Asir</td>\n",
              "      <td>9.0</td>\n",
              "      <td>3</td>\n",
              "      <td>no</td>\n",
              "    </tr>\n",
              "    <tr>\n",
              "      <th>c</th>\n",
              "      <td>Arik</td>\n",
              "      <td>16.5</td>\n",
              "      <td>2</td>\n",
              "      <td>yes</td>\n",
              "    </tr>\n",
              "    <tr>\n",
              "      <th>d</th>\n",
              "      <td>Anis</td>\n",
              "      <td>NaN</td>\n",
              "      <td>3</td>\n",
              "      <td>no</td>\n",
              "    </tr>\n",
              "    <tr>\n",
              "      <th>e</th>\n",
              "      <td>Anil</td>\n",
              "      <td>9.0</td>\n",
              "      <td>2</td>\n",
              "      <td>no</td>\n",
              "    </tr>\n",
              "    <tr>\n",
              "      <th>f</th>\n",
              "      <td>Ashish</td>\n",
              "      <td>20.0</td>\n",
              "      <td>3</td>\n",
              "      <td>yes</td>\n",
              "    </tr>\n",
              "    <tr>\n",
              "      <th>g</th>\n",
              "      <td>Anahi</td>\n",
              "      <td>14.5</td>\n",
              "      <td>1</td>\n",
              "      <td>yes</td>\n",
              "    </tr>\n",
              "    <tr>\n",
              "      <th>h</th>\n",
              "      <td>Alia</td>\n",
              "      <td>NaN</td>\n",
              "      <td>1</td>\n",
              "      <td>no</td>\n",
              "    </tr>\n",
              "    <tr>\n",
              "      <th>i</th>\n",
              "      <td>Alvin</td>\n",
              "      <td>8.0</td>\n",
              "      <td>2</td>\n",
              "      <td>no</td>\n",
              "    </tr>\n",
              "    <tr>\n",
              "      <th>j</th>\n",
              "      <td>Asim</td>\n",
              "      <td>19.0</td>\n",
              "      <td>1</td>\n",
              "      <td>yes</td>\n",
              "    </tr>\n",
              "  </tbody>\n",
              "</table>\n",
              "</div>\n",
              "      <button class=\"colab-df-convert\" onclick=\"convertToInteractive('df-4ac3e288-aa78-4a47-823a-880884d1aa80')\"\n",
              "              title=\"Convert this dataframe to an interactive table.\"\n",
              "              style=\"display:none;\">\n",
              "        \n",
              "  <svg xmlns=\"http://www.w3.org/2000/svg\" height=\"24px\"viewBox=\"0 0 24 24\"\n",
              "       width=\"24px\">\n",
              "    <path d=\"M0 0h24v24H0V0z\" fill=\"none\"/>\n",
              "    <path d=\"M18.56 5.44l.94 2.06.94-2.06 2.06-.94-2.06-.94-.94-2.06-.94 2.06-2.06.94zm-11 1L8.5 8.5l.94-2.06 2.06-.94-2.06-.94L8.5 2.5l-.94 2.06-2.06.94zm10 10l.94 2.06.94-2.06 2.06-.94-2.06-.94-.94-2.06-.94 2.06-2.06.94z\"/><path d=\"M17.41 7.96l-1.37-1.37c-.4-.4-.92-.59-1.43-.59-.52 0-1.04.2-1.43.59L10.3 9.45l-7.72 7.72c-.78.78-.78 2.05 0 2.83L4 21.41c.39.39.9.59 1.41.59.51 0 1.02-.2 1.41-.59l7.78-7.78 2.81-2.81c.8-.78.8-2.07 0-2.86zM5.41 20L4 18.59l7.72-7.72 1.47 1.35L5.41 20z\"/>\n",
              "  </svg>\n",
              "      </button>\n",
              "      \n",
              "  <style>\n",
              "    .colab-df-container {\n",
              "      display:flex;\n",
              "      flex-wrap:wrap;\n",
              "      gap: 12px;\n",
              "    }\n",
              "\n",
              "    .colab-df-convert {\n",
              "      background-color: #E8F0FE;\n",
              "      border: none;\n",
              "      border-radius: 50%;\n",
              "      cursor: pointer;\n",
              "      display: none;\n",
              "      fill: #1967D2;\n",
              "      height: 32px;\n",
              "      padding: 0 0 0 0;\n",
              "      width: 32px;\n",
              "    }\n",
              "\n",
              "    .colab-df-convert:hover {\n",
              "      background-color: #E2EBFA;\n",
              "      box-shadow: 0px 1px 2px rgba(60, 64, 67, 0.3), 0px 1px 3px 1px rgba(60, 64, 67, 0.15);\n",
              "      fill: #174EA6;\n",
              "    }\n",
              "\n",
              "    [theme=dark] .colab-df-convert {\n",
              "      background-color: #3B4455;\n",
              "      fill: #D2E3FC;\n",
              "    }\n",
              "\n",
              "    [theme=dark] .colab-df-convert:hover {\n",
              "      background-color: #434B5C;\n",
              "      box-shadow: 0px 1px 3px 1px rgba(0, 0, 0, 0.15);\n",
              "      filter: drop-shadow(0px 1px 2px rgba(0, 0, 0, 0.3));\n",
              "      fill: #FFFFFF;\n",
              "    }\n",
              "  </style>\n",
              "\n",
              "      <script>\n",
              "        const buttonEl =\n",
              "          document.querySelector('#df-4ac3e288-aa78-4a47-823a-880884d1aa80 button.colab-df-convert');\n",
              "        buttonEl.style.display =\n",
              "          google.colab.kernel.accessAllowed ? 'block' : 'none';\n",
              "\n",
              "        async function convertToInteractive(key) {\n",
              "          const element = document.querySelector('#df-4ac3e288-aa78-4a47-823a-880884d1aa80');\n",
              "          const dataTable =\n",
              "            await google.colab.kernel.invokeFunction('convertToInteractive',\n",
              "                                                     [key], {});\n",
              "          if (!dataTable) return;\n",
              "\n",
              "          const docLinkHtml = 'Like what you see? Visit the ' +\n",
              "            '<a target=\"_blank\" href=https://colab.research.google.com/notebooks/data_table.ipynb>data table notebook</a>'\n",
              "            + ' to learn more about interactive tables.';\n",
              "          element.innerHTML = '';\n",
              "          dataTable['output_type'] = 'display_data';\n",
              "          await google.colab.output.renderOutput(dataTable, element);\n",
              "          const docLink = document.createElement('div');\n",
              "          docLink.innerHTML = docLinkHtml;\n",
              "          element.appendChild(docLink);\n",
              "        }\n",
              "      </script>\n",
              "    </div>\n",
              "  </div>\n",
              "  "
            ]
          },
          "metadata": {},
          "execution_count": 26
        }
      ]
    }
  ]
}